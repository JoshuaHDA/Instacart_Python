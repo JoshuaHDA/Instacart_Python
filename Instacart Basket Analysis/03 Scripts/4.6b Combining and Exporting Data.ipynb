{
 "cells": [
  {
   "cell_type": "markdown",
   "id": "d92c8963",
   "metadata": {},
   "source": [
    "1. Import Libraries\n",
    "2. Tasks 3- 7"
   ]
  },
  {
   "cell_type": "code",
   "execution_count": 4,
   "id": "ce766982",
   "metadata": {},
   "outputs": [],
   "source": [
    "#import libraries\n",
    "import pandas as pd\n",
    "import numpy as np\n",
    "import os"
   ]
  },
  {
   "cell_type": "code",
   "execution_count": 5,
   "id": "eeaed31a",
   "metadata": {},
   "outputs": [],
   "source": [
    "#Define path\n",
    "path = r'/Users/joshd/Documents/Personal/CareerFoundry/Instacart Basket Analysis'"
   ]
  },
  {
   "cell_type": "markdown",
   "id": "17a292dc",
   "metadata": {},
   "source": [
    "#3 Import pickle file"
   ]
  },
  {
   "cell_type": "code",
   "execution_count": 6,
   "id": "90a72630",
   "metadata": {},
   "outputs": [],
   "source": [
    "#upload orders_products_combined file\n",
    "df_ords_cmd = pd.read_pickle(r'/Users/joshd/Documents/Personal/CareerFoundry/Instacart Basket Analysis/02 Data/Prepared Data/orders_products_combined.pkl')"
   ]
  },
  {
   "cell_type": "markdown",
   "id": "4b08ad63",
   "metadata": {},
   "source": [
    "Task #4 Check Shape"
   ]
  },
  {
   "cell_type": "code",
   "execution_count": 7,
   "id": "de133fb9",
   "metadata": {},
   "outputs": [
    {
     "data": {
      "text/plain": [
       "(32434489, 12)"
      ]
     },
     "execution_count": 7,
     "metadata": {},
     "output_type": "execute_result"
    }
   ],
   "source": [
    "#matches the download\n",
    "df_ords_cmd.shape"
   ]
  },
  {
   "cell_type": "markdown",
   "id": "48a941d8",
   "metadata": {},
   "source": [
    "#5 combine orders_products_combined and products"
   ]
  },
  {
   "cell_type": "code",
   "execution_count": 8,
   "id": "095564fb",
   "metadata": {},
   "outputs": [],
   "source": [
    "#upload products checked file\n",
    "df_prods = pd.read_csv(r'/Users/joshd/Documents/Personal/CareerFoundry/Instacart Basket Analysis/02 Data/Prepared Data/products_checked.csv', index_col = False)"
   ]
  },
  {
   "cell_type": "code",
   "execution_count": 9,
   "id": "da428447",
   "metadata": {},
   "outputs": [
    {
     "data": {
      "text/html": [
       "<div>\n",
       "<style scoped>\n",
       "    .dataframe tbody tr th:only-of-type {\n",
       "        vertical-align: middle;\n",
       "    }\n",
       "\n",
       "    .dataframe tbody tr th {\n",
       "        vertical-align: top;\n",
       "    }\n",
       "\n",
       "    .dataframe thead th {\n",
       "        text-align: right;\n",
       "    }\n",
       "</style>\n",
       "<table border=\"1\" class=\"dataframe\">\n",
       "  <thead>\n",
       "    <tr style=\"text-align: right;\">\n",
       "      <th></th>\n",
       "      <th>Unnamed: 0</th>\n",
       "      <th>product_id</th>\n",
       "      <th>product_name</th>\n",
       "      <th>aisle_id</th>\n",
       "      <th>department_id</th>\n",
       "      <th>prices</th>\n",
       "    </tr>\n",
       "  </thead>\n",
       "  <tbody>\n",
       "    <tr>\n",
       "      <th>0</th>\n",
       "      <td>0</td>\n",
       "      <td>1</td>\n",
       "      <td>Chocolate Sandwich Cookies</td>\n",
       "      <td>61</td>\n",
       "      <td>19</td>\n",
       "      <td>5.8</td>\n",
       "    </tr>\n",
       "    <tr>\n",
       "      <th>1</th>\n",
       "      <td>1</td>\n",
       "      <td>2</td>\n",
       "      <td>All-Seasons Salt</td>\n",
       "      <td>104</td>\n",
       "      <td>13</td>\n",
       "      <td>9.3</td>\n",
       "    </tr>\n",
       "    <tr>\n",
       "      <th>2</th>\n",
       "      <td>2</td>\n",
       "      <td>3</td>\n",
       "      <td>Robust Golden Unsweetened Oolong Tea</td>\n",
       "      <td>94</td>\n",
       "      <td>7</td>\n",
       "      <td>4.5</td>\n",
       "    </tr>\n",
       "    <tr>\n",
       "      <th>3</th>\n",
       "      <td>3</td>\n",
       "      <td>4</td>\n",
       "      <td>Smart Ones Classic Favorites Mini Rigatoni Wit...</td>\n",
       "      <td>38</td>\n",
       "      <td>1</td>\n",
       "      <td>10.5</td>\n",
       "    </tr>\n",
       "    <tr>\n",
       "      <th>4</th>\n",
       "      <td>4</td>\n",
       "      <td>5</td>\n",
       "      <td>Green Chile Anytime Sauce</td>\n",
       "      <td>5</td>\n",
       "      <td>13</td>\n",
       "      <td>4.3</td>\n",
       "    </tr>\n",
       "  </tbody>\n",
       "</table>\n",
       "</div>"
      ],
      "text/plain": [
       "   Unnamed: 0  product_id                                       product_name  \\\n",
       "0           0           1                         Chocolate Sandwich Cookies   \n",
       "1           1           2                                   All-Seasons Salt   \n",
       "2           2           3               Robust Golden Unsweetened Oolong Tea   \n",
       "3           3           4  Smart Ones Classic Favorites Mini Rigatoni Wit...   \n",
       "4           4           5                          Green Chile Anytime Sauce   \n",
       "\n",
       "   aisle_id  department_id  prices  \n",
       "0        61             19     5.8  \n",
       "1       104             13     9.3  \n",
       "2        94              7     4.5  \n",
       "3        38              1    10.5  \n",
       "4         5             13     4.3  "
      ]
     },
     "execution_count": 9,
     "metadata": {},
     "output_type": "execute_result"
    }
   ],
   "source": [
    "df_prods.head()"
   ]
  },
  {
   "cell_type": "code",
   "execution_count": 10,
   "id": "ca044fff",
   "metadata": {},
   "outputs": [
    {
     "data": {
      "text/html": [
       "<div>\n",
       "<style scoped>\n",
       "    .dataframe tbody tr th:only-of-type {\n",
       "        vertical-align: middle;\n",
       "    }\n",
       "\n",
       "    .dataframe tbody tr th {\n",
       "        vertical-align: top;\n",
       "    }\n",
       "\n",
       "    .dataframe thead th {\n",
       "        text-align: right;\n",
       "    }\n",
       "</style>\n",
       "<table border=\"1\" class=\"dataframe\">\n",
       "  <thead>\n",
       "    <tr style=\"text-align: right;\">\n",
       "      <th></th>\n",
       "      <th>Unnamed: 0.1</th>\n",
       "      <th>Unnamed: 0</th>\n",
       "      <th>order_id</th>\n",
       "      <th>user_id</th>\n",
       "      <th>order_number</th>\n",
       "      <th>orders_day_of_week</th>\n",
       "      <th>order_hour_of_day</th>\n",
       "      <th>days_since_prior_order</th>\n",
       "      <th>product_id</th>\n",
       "      <th>add_to_cart_order</th>\n",
       "      <th>reordered</th>\n",
       "      <th>_merge</th>\n",
       "    </tr>\n",
       "  </thead>\n",
       "  <tbody>\n",
       "    <tr>\n",
       "      <th>0</th>\n",
       "      <td>0</td>\n",
       "      <td>0</td>\n",
       "      <td>2539329</td>\n",
       "      <td>1</td>\n",
       "      <td>1</td>\n",
       "      <td>2</td>\n",
       "      <td>8</td>\n",
       "      <td>0.0</td>\n",
       "      <td>196</td>\n",
       "      <td>1</td>\n",
       "      <td>0</td>\n",
       "      <td>both</td>\n",
       "    </tr>\n",
       "    <tr>\n",
       "      <th>1</th>\n",
       "      <td>0</td>\n",
       "      <td>0</td>\n",
       "      <td>2539329</td>\n",
       "      <td>1</td>\n",
       "      <td>1</td>\n",
       "      <td>2</td>\n",
       "      <td>8</td>\n",
       "      <td>0.0</td>\n",
       "      <td>14084</td>\n",
       "      <td>2</td>\n",
       "      <td>0</td>\n",
       "      <td>both</td>\n",
       "    </tr>\n",
       "    <tr>\n",
       "      <th>2</th>\n",
       "      <td>0</td>\n",
       "      <td>0</td>\n",
       "      <td>2539329</td>\n",
       "      <td>1</td>\n",
       "      <td>1</td>\n",
       "      <td>2</td>\n",
       "      <td>8</td>\n",
       "      <td>0.0</td>\n",
       "      <td>12427</td>\n",
       "      <td>3</td>\n",
       "      <td>0</td>\n",
       "      <td>both</td>\n",
       "    </tr>\n",
       "    <tr>\n",
       "      <th>3</th>\n",
       "      <td>0</td>\n",
       "      <td>0</td>\n",
       "      <td>2539329</td>\n",
       "      <td>1</td>\n",
       "      <td>1</td>\n",
       "      <td>2</td>\n",
       "      <td>8</td>\n",
       "      <td>0.0</td>\n",
       "      <td>26088</td>\n",
       "      <td>4</td>\n",
       "      <td>0</td>\n",
       "      <td>both</td>\n",
       "    </tr>\n",
       "    <tr>\n",
       "      <th>4</th>\n",
       "      <td>0</td>\n",
       "      <td>0</td>\n",
       "      <td>2539329</td>\n",
       "      <td>1</td>\n",
       "      <td>1</td>\n",
       "      <td>2</td>\n",
       "      <td>8</td>\n",
       "      <td>0.0</td>\n",
       "      <td>26405</td>\n",
       "      <td>5</td>\n",
       "      <td>0</td>\n",
       "      <td>both</td>\n",
       "    </tr>\n",
       "  </tbody>\n",
       "</table>\n",
       "</div>"
      ],
      "text/plain": [
       "   Unnamed: 0.1  Unnamed: 0  order_id  user_id  order_number  \\\n",
       "0             0           0   2539329        1             1   \n",
       "1             0           0   2539329        1             1   \n",
       "2             0           0   2539329        1             1   \n",
       "3             0           0   2539329        1             1   \n",
       "4             0           0   2539329        1             1   \n",
       "\n",
       "   orders_day_of_week  order_hour_of_day  days_since_prior_order  product_id  \\\n",
       "0                   2                  8                     0.0         196   \n",
       "1                   2                  8                     0.0       14084   \n",
       "2                   2                  8                     0.0       12427   \n",
       "3                   2                  8                     0.0       26088   \n",
       "4                   2                  8                     0.0       26405   \n",
       "\n",
       "   add_to_cart_order  reordered _merge  \n",
       "0                  1          0   both  \n",
       "1                  2          0   both  \n",
       "2                  3          0   both  \n",
       "3                  4          0   both  \n",
       "4                  5          0   both  "
      ]
     },
     "execution_count": 10,
     "metadata": {},
     "output_type": "execute_result"
    }
   ],
   "source": [
    "df_ords_cmd.head()"
   ]
  },
  {
   "cell_type": "code",
   "execution_count": 15,
   "id": "91621963",
   "metadata": {},
   "outputs": [],
   "source": [
    "#merge data sets\n",
    "df_merged_prod = df_prods.merge(df_ords_cmd, on = 'product_id', how = 'inner', indicator = 'exists')"
   ]
  },
  {
   "cell_type": "code",
   "execution_count": 16,
   "id": "3385cb77",
   "metadata": {},
   "outputs": [
    {
     "data": {
      "text/plain": [
       "<bound method NDFrame.head of           Unnamed: 0_x  product_id                product_name  aisle_id  \\\n",
       "0                    0           1  Chocolate Sandwich Cookies        61   \n",
       "1                    0           1  Chocolate Sandwich Cookies        61   \n",
       "2                    0           1  Chocolate Sandwich Cookies        61   \n",
       "3                    0           1  Chocolate Sandwich Cookies        61   \n",
       "4                    0           1  Chocolate Sandwich Cookies        61   \n",
       "...                ...         ...                         ...       ...   \n",
       "32404854         49692       49688      Fresh Foaming Cleanser        73   \n",
       "32404855         49692       49688      Fresh Foaming Cleanser        73   \n",
       "32404856         49692       49688      Fresh Foaming Cleanser        73   \n",
       "32404857         49692       49688      Fresh Foaming Cleanser        73   \n",
       "32404858         49692       49688      Fresh Foaming Cleanser        73   \n",
       "\n",
       "          department_id  prices  Unnamed: 0.1  Unnamed: 0_y  order_id  \\\n",
       "0                    19     5.8          1987          1987   3139998   \n",
       "1                    19     5.8          1989          1989   1977647   \n",
       "2                    19     5.8         11433         11433    389851   \n",
       "3                    19     5.8         12198         12198    652770   \n",
       "4                    19     5.8         12200         12200   1813452   \n",
       "...                 ...     ...           ...           ...       ...   \n",
       "32404854             11    13.5       3321928       3321928   1788356   \n",
       "32404855             11    13.5       3324686       3324686   3401313   \n",
       "32404856             11    13.5       3332310       3332310    809510   \n",
       "32404857             11    13.5       3332314       3332314   2359893   \n",
       "32404858             11    13.5       3416620       3416620   2385091   \n",
       "\n",
       "          user_id  order_number  orders_day_of_week  order_hour_of_day  \\\n",
       "0             138            28                   6                 11   \n",
       "1             138            30                   6                 17   \n",
       "2             709             2                   0                 21   \n",
       "3             764             1                   3                 13   \n",
       "4             764             3                   4                 17   \n",
       "...           ...           ...                 ...                ...   \n",
       "32404854   200215             2                   0                  9   \n",
       "32404855   200377             1                   4                 11   \n",
       "32404856   200873             5                   3                  8   \n",
       "32404857   200873             9                   3                 15   \n",
       "32404858   205926            11                   1                 15   \n",
       "\n",
       "          days_since_prior_order  add_to_cart_order  reordered _merge exists  \n",
       "0                            3.0                  5          0   both   both  \n",
       "1                           20.0                  1          1   both   both  \n",
       "2                            6.0                 20          0   both   both  \n",
       "3                            0.0                 10          0   both   both  \n",
       "4                            9.0                 11          1   both   both  \n",
       "...                          ...                ...        ...    ...    ...  \n",
       "32404854                     5.0                 27          0   both   both  \n",
       "32404855                     0.0                  5          0   both   both  \n",
       "32404856                    15.0                 12          0   both   both  \n",
       "32404857                     5.0                 11          1   both   both  \n",
       "32404858                     6.0                 35          0   both   both  \n",
       "\n",
       "[32404859 rows x 18 columns]>"
      ]
     },
     "execution_count": 16,
     "metadata": {},
     "output_type": "execute_result"
    }
   ],
   "source": [
    "df_merged_prod.head"
   ]
  },
  {
   "cell_type": "markdown",
   "id": "c3916d38",
   "metadata": {},
   "source": [
    "#6 Check merge flag"
   ]
  },
  {
   "cell_type": "code",
   "execution_count": 17,
   "id": "77ef3196",
   "metadata": {},
   "outputs": [
    {
     "data": {
      "text/plain": [
       "both          32404859\n",
       "left_only            0\n",
       "right_only           0\n",
       "Name: _merge, dtype: int64"
      ]
     },
     "execution_count": 17,
     "metadata": {},
     "output_type": "execute_result"
    }
   ],
   "source": [
    "#check merge counts_ \n",
    "df_merged_prod['_merge'].value_counts()"
   ]
  },
  {
   "cell_type": "markdown",
   "id": "e989e91a",
   "metadata": {},
   "source": [
    "#7 Export"
   ]
  },
  {
   "cell_type": "code",
   "execution_count": 18,
   "id": "25155d09",
   "metadata": {},
   "outputs": [],
   "source": [
    "#Export Pickle file\n",
    "df_merged_prod.to_pickle(os.path.join(path, '02 Data','Prepared Data', 'orders_products_merged.pkl'))"
   ]
  },
  {
   "cell_type": "code",
   "execution_count": null,
   "id": "3aaf9a68",
   "metadata": {},
   "outputs": [],
   "source": []
  }
 ],
 "metadata": {
  "kernelspec": {
   "display_name": "Python 3 (ipykernel)",
   "language": "python",
   "name": "python3"
  },
  "language_info": {
   "codemirror_mode": {
    "name": "ipython",
    "version": 3
   },
   "file_extension": ".py",
   "mimetype": "text/x-python",
   "name": "python",
   "nbconvert_exporter": "python",
   "pygments_lexer": "ipython3",
   "version": "3.9.13"
  }
 },
 "nbformat": 4,
 "nbformat_minor": 5
}
